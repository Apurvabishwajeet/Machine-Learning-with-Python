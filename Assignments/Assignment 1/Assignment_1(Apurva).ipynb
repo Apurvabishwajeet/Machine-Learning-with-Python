{
 "cells": [
  {
   "cell_type": "markdown",
   "metadata": {
    "id": "UOzd0zRXW5Uv"
   },
   "source": [
    "# Week-1 Assignment\n",
    "\n",
    "*Welcome to your first assignment for the SimuTech Winter Project 2022! I hope you are excited to implement and test everything you have learned up until now. There is an interesting set of questions for you to refine your acquired skills as you delve into hands-on coding and deepen your understanding of numpy, pandas, and data visualization libraries.*"
   ]
  },
  {
   "cell_type": "markdown",
   "metadata": {
    "id": "2XFUXyq9Y9TG"
   },
   "source": [
    "# Section 0 : Importing Libraries"
   ]
  },
  {
   "cell_type": "markdown",
   "metadata": {
    "id": "D_bzcLusjSO0"
   },
   "source": [
    "*Let's begin by importing numpy, pandas and matplotlib.*"
   ]
  },
  {
   "cell_type": "code",
   "execution_count": 45,
   "metadata": {
    "id": "jdwX7bI7aGeY"
   },
   "outputs": [],
   "source": [
    "#your code here\n",
    "import numpy as np\n",
    "import pandas as pd\n",
    "import matplotlib.pyplot as plt\n",
    "import math\n",
    "import os\n",
    "\n"
   ]
  },
  {
   "cell_type": "markdown",
   "metadata": {
    "id": "LM25mz5ta-Q_"
   },
   "source": [
    "# Section 1 : Playing with Python and Numpy"
   ]
  },
  {
   "cell_type": "markdown",
   "metadata": {
    "id": "TcFQVqhAdQw_"
   },
   "source": [
    "### Q1. Matrix Multiplication"
   ]
  },
  {
   "cell_type": "markdown",
   "metadata": {
    "id": "6Dcai9pys0j8"
   },
   "source": [
    "##### (i) Check if matrix multiplication is valid"
   ]
  },
  {
   "cell_type": "code",
   "execution_count": 46,
   "metadata": {
    "id": "0qC4txIss3gG"
   },
   "outputs": [],
   "source": [
    "def isValid(A,B):\n",
    "  #your code here\n",
    "  if np.shape(A)[1]==np.shape(B)[0]:\n",
    "        return 1\n",
    "  else:\n",
    "        return 0\n"
   ]
  },
  {
   "cell_type": "markdown",
   "metadata": {
    "id": "OPTfRGlTdXxa"
   },
   "source": [
    "##### (ii) Using loops (without using numpy)"
   ]
  },
  {
   "cell_type": "code",
   "execution_count": 47,
   "metadata": {
    "id": "V8F5ETsRct3S"
   },
   "outputs": [],
   "source": [
    "def matrix_multiply(A,B):\n",
    "  #your code here\n",
    "  row1=np.shape(A)[0]\n",
    "  column1=np.shape(A)[1]\n",
    "  row2=np.shape(B)[0]\n",
    "  column2=np.shape(B)[1]\n",
    "\n",
    "  #Creating a list with all values set to 0\n",
    "  result = [[0 for x in range(column2)] for y in range(row1)]\n",
    "\n",
    "  #Using loops\n",
    "  for i in range(row1):\n",
    "        for j in range(column2):\n",
    "            for k in range(column1):\n",
    "                result[i][j] = result[i][j]+ A[i][k] * B[k][j]\n",
    "\n",
    "  return result\n"
   ]
  },
  {
   "cell_type": "markdown",
   "metadata": {
    "id": "umUgUTSWdos8"
   },
   "source": [
    "##### (iii) Using numpy"
   ]
  },
  {
   "cell_type": "code",
   "execution_count": 48,
   "metadata": {
    "id": "-tdXlCHrduBP"
   },
   "outputs": [],
   "source": [
    "def matrix_multiply_2(A,B):\n",
    "  #your code here\n",
    "   return A@B"
   ]
  },
  {
   "cell_type": "markdown",
   "metadata": {
    "id": "2nMFnl84edJG"
   },
   "source": [
    "##### (iv) Testing your code\n",
    "\n",
    "Run the following cell to check if your functions are working properly.\n",
    "\n",
    "*Expected output:*\n",
    "[ [102 108 114]\n",
    " [246 261 276]\n",
    " [390 414 438]\n",
    " [534 567 600] ]"
   ]
  },
  {
   "cell_type": "code",
   "execution_count": 49,
   "metadata": {
    "id": "09rX_Cm9ezmq"
   },
   "outputs": [
    {
     "name": "stdout",
     "output_type": "stream",
     "text": [
      "Result using loops: [[102, 108, 114], [246, 261, 276], [390, 414, 438], [534, 567, 600]]\n",
      "Result using numpy: [[102 108 114]\n",
      " [246 261 276]\n",
      " [390 414 438]\n",
      " [534 567 600]]\n"
     ]
    }
   ],
   "source": [
    "A = np.array([\n",
    "    [1, 2, 3],\n",
    "    [4, 5, 6],\n",
    "    [7, 8, 9],\n",
    "    [10, 11, 12]\n",
    "])\n",
    "\n",
    "B = np.array([\n",
    "    [13, 14, 15],\n",
    "    [16, 17, 18],\n",
    "    [19, 20, 21]\n",
    "])\n",
    "\n",
    "if isValid(A,B):\n",
    "  print(f\"Result using loops: {matrix_multiply(A,B)}\")\n",
    "  print(f\"Result using numpy: {matrix_multiply_2(A,B)}\")\n",
    "else:\n",
    "  print(f\"Matrix multiplication is not valid\")"
   ]
  },
  {
   "cell_type": "markdown",
   "metadata": {
    "id": "5hfP7Ao1fwqV"
   },
   "source": [
    "### Q2. Z-Score Normalisation"
   ]
  },
  {
   "cell_type": "markdown",
   "metadata": {
    "id": "0e81Xx5Kw_CQ"
   },
   "source": [
    "Z-score normalization refers to the process of normalizing every value in a dataset such that the mean of all of the values is 0 and the standard deviation is 1.\n",
    "\n",
    "We use the following formula to perform a z-score normalization on every value in a dataset:\n",
    "\n",
    "New value = (x – μ) / σ\n",
    "\n",
    "where:\n",
    "\n",
    "x: Original value\n",
    "\n",
    "μ: Mean of data\n",
    "\n",
    "σ: Standard deviation of data"
   ]
  },
  {
   "cell_type": "markdown",
   "metadata": {
    "id": "GP_MuyUbguSR"
   },
   "source": [
    "##### (i) Without using numpy"
   ]
  },
  {
   "cell_type": "code",
   "execution_count": 50,
   "metadata": {
    "id": "0vix8qaaghwP"
   },
   "outputs": [],
   "source": [
    "def mean(x):\n",
    "  #your code here\n",
    "    numerator=0\n",
    "    \n",
    "    for i in x:\n",
    "        numerator=numerator+i\n",
    "    denominator=len(x)\n",
    "\n",
    "    return (numerator/denominator)\n",
    "\n"
   ]
  },
  {
   "cell_type": "code",
   "execution_count": 51,
   "metadata": {
    "id": "j1qabel-g_f5"
   },
   "outputs": [],
   "source": [
    "def standard_deviation(x):\n",
    "  #your code here\n",
    "  numerator=0\n",
    "  \n",
    "  for i in x:\n",
    "    numerator=numerator+((i-mean(x))**2)\n",
    "\n",
    "  variance = numerator / len(x)\n",
    "  \n",
    "  SD=variance**0.5\n",
    "  \n",
    "  return SD\n",
    "\n"
   ]
  },
  {
   "cell_type": "code",
   "execution_count": 52,
   "metadata": {
    "id": "797ewbNqhEpY"
   },
   "outputs": [],
   "source": [
    "def zscore_normalisation(x):\n",
    "  #your code here\n",
    "    normalized_data = [(i - mean(x)) / standard_deviation(x) for i in x]\n",
    "    \n",
    "    return normalized_data\n",
    "\n"
   ]
  },
  {
   "cell_type": "markdown",
   "metadata": {
    "id": "k8dq1wqRhbUB"
   },
   "source": [
    "##### (ii) Using numpy\n",
    "\n",
    "Numpy has in_built functions for calculating mean and standard deviation"
   ]
  },
  {
   "cell_type": "code",
   "execution_count": 53,
   "metadata": {
    "id": "WjxJTUDihsYg"
   },
   "outputs": [],
   "source": [
    "def zscore_normalisation_2(x):\n",
    "  #your code here\n",
    "    avg1=np.mean(x)\n",
    "    std1=np.std(x)\n",
    "\n",
    "    normalized_data2 = [(i - avg1) / std1 for i in x]\n",
    "    \n",
    "    return normalized_data2\n",
    "\n",
    "    "
   ]
  },
  {
   "cell_type": "markdown",
   "metadata": {
    "id": "glRqKU-_1pue"
   },
   "source": [
    "##### (iii) Testing your code"
   ]
  },
  {
   "cell_type": "markdown",
   "metadata": {
    "id": "Kl7XBymOigCU"
   },
   "source": [
    "Run the following cell to check if your functions are working properly.\n",
    "\n",
    "*Expected Output:* [-1.06753267 -0.99745394 -0.99745394 -0.81057732 -0.41346451 -0.06307086\n",
    "  0.31068237  0.91803138  1.22170588  1.89913361]"
   ]
  },
  {
   "cell_type": "code",
   "execution_count": 54,
   "metadata": {
    "id": "78ptZxf6ipZp"
   },
   "outputs": [
    {
     "name": "stdout",
     "output_type": "stream",
     "text": [
      "Result without using numpy: [-1.0675326683028088, -0.9974539373420117, -0.9974539373420117, -0.8105773214465528, -0.41346451266870277, -0.06307085786471743, 0.3106823739262003, 0.9180313755864415, 1.2217058764165623, 1.8991336090376005]\n",
      "Result using numpy: [-1.0675326683028088, -0.9974539373420117, -0.9974539373420117, -0.8105773214465528, -0.41346451266870277, -0.06307085786471743, 0.3106823739262003, 0.9180313755864415, 1.2217058764165623, 1.8991336090376005]\n"
     ]
    }
   ],
   "source": [
    "x = [4, 7, 7, 15, 32, 47, 63, 89, 102, 131]\n",
    "print(f\"Result without using numpy: {zscore_normalisation(x)}\")\n",
    "print(f\"Result using numpy: {zscore_normalisation_2(x)}\")"
   ]
  },
  {
   "cell_type": "markdown",
   "metadata": {
    "id": "0WVscJ0z14rp"
   },
   "source": [
    "### Q3. Sigmoid fn and its derivative"
   ]
  },
  {
   "cell_type": "markdown",
   "metadata": {
    "id": "Jfntb0Rg94Tu"
   },
   "source": [
    "The sigmoid function is a mathematical function that maps any input value to a value between 0 and 1.\n",
    "\n",
    "It is defined mathematically as s(x) = 1/(1+e^(-x))."
   ]
  },
  {
   "cell_type": "markdown",
   "metadata": {
    "id": "8SCAPkjO2m7u"
   },
   "source": [
    "##### (i) Write a fn to implement sigmoid fn"
   ]
  },
  {
   "cell_type": "code",
   "execution_count": 55,
   "metadata": {
    "id": "jL_TRQFG2l5m"
   },
   "outputs": [],
   "source": [
    "def sigmoidfn(x):\n",
    "  #your code here\n",
    "  e=2.718281828459045\n",
    "  return 1/(1+(e**(-x)))"
   ]
  },
  {
   "cell_type": "markdown",
   "metadata": {
    "id": "t7KBbl7N3AUM"
   },
   "source": [
    "##### (ii) Write a fn to implement derivative of sigmoid fn"
   ]
  },
  {
   "cell_type": "code",
   "execution_count": 56,
   "metadata": {
    "id": "okjuOpba3KOJ"
   },
   "outputs": [],
   "source": [
    "def derivative(x):\n",
    "  #your code here\n",
    "  e=2.718281828459045\n",
    "  numerator=-(e**(-x))\n",
    "  denominator=(1+(e**(-x)))**2\n",
    "  return numerator/denominator\n",
    "\n"
   ]
  },
  {
   "cell_type": "markdown",
   "metadata": {
    "id": "NdGTSpsp3mwr"
   },
   "source": [
    "##### (iii) Test your code"
   ]
  },
  {
   "cell_type": "markdown",
   "metadata": {
    "id": "lWY8RBex7gnd"
   },
   "source": [
    "Run the following cell to check if your functions are working properly.\n",
    "\n",
    "*Expected output:*\n",
    "\n",
    "x on applying sigmoid activation fn is: [ [0.99987661 0.88079708 0.99330715 0.5        0.5       ]\n",
    " [0.99908895 0.99330715 0.5        0.5        0.5       ] ]\n",
    "\n",
    "x on applying derivative of sigmoid activation fn is: [ [-1.23379350e-04 -1.04993585e-01 -6.64805667e-03 -2.50000000e-01\n",
    "  -2.50000000e-01]\n",
    " [-9.10221180e-04 -6.64805667e-03 -2.50000000e-01 -2.50000000e-01\n",
    "  -2.50000000e-01] ]"
   ]
  },
  {
   "cell_type": "code",
   "execution_count": 57,
   "metadata": {
    "id": "ssDGpmS33vdA"
   },
   "outputs": [
    {
     "name": "stdout",
     "output_type": "stream",
     "text": [
      "x on applying sigmoid activation fn is: [[0.99987661 0.88079708 0.99330715 0.5        0.5       ]\n",
      " [0.99908895 0.99330715 0.5        0.5        0.5       ]]\n",
      "x on applying derivative of sigmoid activation fn is: [[-1.23379350e-04 -1.04993585e-01 -6.64805667e-03 -2.50000000e-01\n",
      "  -2.50000000e-01]\n",
      " [-9.10221180e-04 -6.64805667e-03 -2.50000000e-01 -2.50000000e-01\n",
      "  -2.50000000e-01]]\n"
     ]
    }
   ],
   "source": [
    "x = np.array([\n",
    "    [9,2,5,0,0],\n",
    "    [7,5,0,0,0]\n",
    "])\n",
    "print(f\"x on applying sigmoid activation fn is: {sigmoidfn(x)}\")\n",
    "print(f\"x on applying derivative of sigmoid activation fn is: {derivative(x)}\")"
   ]
  },
  {
   "cell_type": "markdown",
   "metadata": {
    "id": "PMa0cseyZpa1"
   },
   "source": [
    "# Section 2: Exploring Pandas"
   ]
  },
  {
   "cell_type": "markdown",
   "metadata": {},
   "source": [
    "*You have been provided with a dataset which includes information about properties of superheated vapor.*\n",
    "\n",
    "*The dataset consists of the thermophysical properties: specific volume, specific internal energy, specific enthalpy, specific entropy of superheated vapor.*\n",
    "\n",
    "*Pressure is in kPa and Temperature in centigrade. In the dataframe 75, 100, 125, etc. are temperatures.*"
   ]
  },
  {
   "cell_type": "markdown",
   "metadata": {
    "id": "i5Okb_jxZ_VW"
   },
   "source": [
    "### Read the csv file\n"
   ]
  },
  {
   "cell_type": "code",
   "execution_count": 58,
   "metadata": {
    "id": "aQgvyavrcM1l"
   },
   "outputs": [
    {
     "data": {
      "text/html": [
       "<div>\n",
       "<style scoped>\n",
       "    .dataframe tbody tr th:only-of-type {\n",
       "        vertical-align: middle;\n",
       "    }\n",
       "\n",
       "    .dataframe tbody tr th {\n",
       "        vertical-align: top;\n",
       "    }\n",
       "\n",
       "    .dataframe thead th {\n",
       "        text-align: right;\n",
       "    }\n",
       "</style>\n",
       "<table border=\"1\" class=\"dataframe\">\n",
       "  <thead>\n",
       "    <tr style=\"text-align: right;\">\n",
       "      <th></th>\n",
       "      <th>Pressure</th>\n",
       "      <th>Property</th>\n",
       "      <th>Liq_Sat</th>\n",
       "      <th>Vap_Sat</th>\n",
       "      <th>75</th>\n",
       "      <th>100</th>\n",
       "      <th>125</th>\n",
       "      <th>150</th>\n",
       "      <th>175</th>\n",
       "      <th>200</th>\n",
       "      <th>...</th>\n",
       "      <th>425</th>\n",
       "      <th>450</th>\n",
       "      <th>475</th>\n",
       "      <th>500</th>\n",
       "      <th>525</th>\n",
       "      <th>550</th>\n",
       "      <th>575</th>\n",
       "      <th>600</th>\n",
       "      <th>625</th>\n",
       "      <th>650</th>\n",
       "    </tr>\n",
       "  </thead>\n",
       "  <tbody>\n",
       "    <tr>\n",
       "      <th>0</th>\n",
       "      <td>1.0</td>\n",
       "      <td>V</td>\n",
       "      <td>1.000</td>\n",
       "      <td>129200.0000</td>\n",
       "      <td>160640.0000</td>\n",
       "      <td>172180.0000</td>\n",
       "      <td>183720.0000</td>\n",
       "      <td>195270.0000</td>\n",
       "      <td>206810.0000</td>\n",
       "      <td>218350.0000</td>\n",
       "      <td>...</td>\n",
       "      <td>NaN</td>\n",
       "      <td>333730.00</td>\n",
       "      <td>NaN</td>\n",
       "      <td>356810.0000</td>\n",
       "      <td>NaN</td>\n",
       "      <td>379880.0000</td>\n",
       "      <td>NaN</td>\n",
       "      <td>402960.0000</td>\n",
       "      <td>NaN</td>\n",
       "      <td>426040.0000</td>\n",
       "    </tr>\n",
       "    <tr>\n",
       "      <th>1</th>\n",
       "      <td>1.0</td>\n",
       "      <td>U</td>\n",
       "      <td>29.334</td>\n",
       "      <td>2385.2000</td>\n",
       "      <td>2480.8000</td>\n",
       "      <td>2516.4000</td>\n",
       "      <td>2552.3000</td>\n",
       "      <td>2588.5000</td>\n",
       "      <td>2624.9000</td>\n",
       "      <td>2661.7000</td>\n",
       "      <td>...</td>\n",
       "      <td>NaN</td>\n",
       "      <td>3049.90</td>\n",
       "      <td>NaN</td>\n",
       "      <td>3132.4000</td>\n",
       "      <td>NaN</td>\n",
       "      <td>3216.7000</td>\n",
       "      <td>NaN</td>\n",
       "      <td>3302.6000</td>\n",
       "      <td>NaN</td>\n",
       "      <td>3390.3000</td>\n",
       "    </tr>\n",
       "    <tr>\n",
       "      <th>2</th>\n",
       "      <td>1.0</td>\n",
       "      <td>H</td>\n",
       "      <td>29.335</td>\n",
       "      <td>2514.4000</td>\n",
       "      <td>2641.5000</td>\n",
       "      <td>2688.6000</td>\n",
       "      <td>2736.0000</td>\n",
       "      <td>2783.7000</td>\n",
       "      <td>2831.7000</td>\n",
       "      <td>2880.1000</td>\n",
       "      <td>...</td>\n",
       "      <td>NaN</td>\n",
       "      <td>3383.60</td>\n",
       "      <td>NaN</td>\n",
       "      <td>3489.2000</td>\n",
       "      <td>NaN</td>\n",
       "      <td>3596.5000</td>\n",
       "      <td>NaN</td>\n",
       "      <td>3705.6000</td>\n",
       "      <td>NaN</td>\n",
       "      <td>3816.4000</td>\n",
       "    </tr>\n",
       "    <tr>\n",
       "      <th>3</th>\n",
       "      <td>1.0</td>\n",
       "      <td>S</td>\n",
       "      <td>0.106</td>\n",
       "      <td>8.9767</td>\n",
       "      <td>9.3828</td>\n",
       "      <td>9.5136</td>\n",
       "      <td>9.6365</td>\n",
       "      <td>9.7527</td>\n",
       "      <td>9.8629</td>\n",
       "      <td>9.9679</td>\n",
       "      <td>...</td>\n",
       "      <td>NaN</td>\n",
       "      <td>10.82</td>\n",
       "      <td>NaN</td>\n",
       "      <td>10.9612</td>\n",
       "      <td>NaN</td>\n",
       "      <td>11.0957</td>\n",
       "      <td>NaN</td>\n",
       "      <td>11.2243</td>\n",
       "      <td>NaN</td>\n",
       "      <td>11.3476</td>\n",
       "    </tr>\n",
       "    <tr>\n",
       "      <th>4</th>\n",
       "      <td>10.0</td>\n",
       "      <td>V</td>\n",
       "      <td>1.010</td>\n",
       "      <td>14670.0000</td>\n",
       "      <td>16030.0000</td>\n",
       "      <td>17190.0000</td>\n",
       "      <td>18350.0000</td>\n",
       "      <td>19510.0000</td>\n",
       "      <td>20660.0000</td>\n",
       "      <td>21820.0000</td>\n",
       "      <td>...</td>\n",
       "      <td>NaN</td>\n",
       "      <td>33370.00</td>\n",
       "      <td>NaN</td>\n",
       "      <td>35670.0000</td>\n",
       "      <td>NaN</td>\n",
       "      <td>37980.0000</td>\n",
       "      <td>NaN</td>\n",
       "      <td>40290.0000</td>\n",
       "      <td>NaN</td>\n",
       "      <td>42600.0000</td>\n",
       "    </tr>\n",
       "  </tbody>\n",
       "</table>\n",
       "<p>5 rows × 37 columns</p>\n",
       "</div>"
      ],
      "text/plain": [
       "   Pressure Property  Liq_Sat      Vap_Sat           75          100  \\\n",
       "0       1.0        V    1.000  129200.0000  160640.0000  172180.0000   \n",
       "1       1.0        U   29.334    2385.2000    2480.8000    2516.4000   \n",
       "2       1.0        H   29.335    2514.4000    2641.5000    2688.6000   \n",
       "3       1.0        S    0.106       8.9767       9.3828       9.5136   \n",
       "4      10.0        V    1.010   14670.0000   16030.0000   17190.0000   \n",
       "\n",
       "           125          150          175          200  ...  425        450  \\\n",
       "0  183720.0000  195270.0000  206810.0000  218350.0000  ...  NaN  333730.00   \n",
       "1    2552.3000    2588.5000    2624.9000    2661.7000  ...  NaN    3049.90   \n",
       "2    2736.0000    2783.7000    2831.7000    2880.1000  ...  NaN    3383.60   \n",
       "3       9.6365       9.7527       9.8629       9.9679  ...  NaN      10.82   \n",
       "4   18350.0000   19510.0000   20660.0000   21820.0000  ...  NaN   33370.00   \n",
       "\n",
       "   475          500  525          550  575          600  625          650  \n",
       "0  NaN  356810.0000  NaN  379880.0000  NaN  402960.0000  NaN  426040.0000  \n",
       "1  NaN    3132.4000  NaN    3216.7000  NaN    3302.6000  NaN    3390.3000  \n",
       "2  NaN    3489.2000  NaN    3596.5000  NaN    3705.6000  NaN    3816.4000  \n",
       "3  NaN      10.9612  NaN      11.0957  NaN      11.2243  NaN      11.3476  \n",
       "4  NaN   35670.0000  NaN   37980.0000  NaN   40290.0000  NaN   42600.0000  \n",
       "\n",
       "[5 rows x 37 columns]"
      ]
     },
     "execution_count": 58,
     "metadata": {},
     "output_type": "execute_result"
    }
   ],
   "source": [
    "#your code here\n",
    "x=pd.read_csv(\"superheated_vapor_properties.csv\")\n",
    "df=pd.DataFrame(x)\n",
    "df.head()\n",
    "\n"
   ]
  },
  {
   "cell_type": "code",
   "execution_count": 44,
   "metadata": {},
   "outputs": [],
   "source": [
    "os.chdir(\"C:\\\\Users\\\\apurv\\\\OneDrive\\\\Documents\\\\230180_Apurva\\\\Machine-Learning-with-Python\\\\Assignments\\\\Assignment 1\")"
   ]
  },
  {
   "cell_type": "markdown",
   "metadata": {
    "id": "Zp8F3rk2cNxy"
   },
   "source": [
    "### Display the shape of data frame\n"
   ]
  },
  {
   "cell_type": "code",
   "execution_count": 59,
   "metadata": {
    "id": "v3Q8kQkucgK0"
   },
   "outputs": [
    {
     "name": "stdout",
     "output_type": "stream",
     "text": [
      "Shape of data frame is  (544, 37)\n"
     ]
    }
   ],
   "source": [
    "#your code here\n",
    "S=df.shape\n",
    "\n",
    "print(\"Shape of data frame is \",S)\n"
   ]
  },
  {
   "cell_type": "markdown",
   "metadata": {
    "id": "w49cp-8zcgd2"
   },
   "source": [
    "### Return an array containing names of all the columns"
   ]
  },
  {
   "cell_type": "code",
   "execution_count": 61,
   "metadata": {
    "id": "fz4HRb3JcsZp"
   },
   "outputs": [
    {
     "name": "stdout",
     "output_type": "stream",
     "text": [
      "The array of column names is \n",
      " ['Pressure' 'Property' 'Liq_Sat' 'Vap_Sat' '75' '100' '125' '150' '175'\n",
      " '200' '220' '225' '240' '250' '260' '275' '280' '290' '300' '320' '325'\n",
      " '340' '350' '360' '375' '380' '400' '425' '450' '475' '500' '525' '550'\n",
      " '575' '600' '625' '650']\n"
     ]
    },
    {
     "data": {
      "text/plain": [
       "numpy.ndarray"
      ]
     },
     "execution_count": 61,
     "metadata": {},
     "output_type": "execute_result"
    }
   ],
   "source": [
    "#your code here\n",
    "column_name=df.columns\n",
    "array=column_name.to_numpy()\n",
    "\n",
    "print(\"The array of column names is \\n\",array)\n",
    "\n",
    "type(array)\n",
    "\n"
   ]
  },
  {
   "cell_type": "markdown",
   "metadata": {
    "id": "YkTH9tRWcrH-"
   },
   "source": [
    "### Display the number of null values in each column of the dataframe\n",
    "\n"
   ]
  },
  {
   "cell_type": "code",
   "execution_count": 62,
   "metadata": {
    "id": "GK9-PJPxc3Ot"
   },
   "outputs": [
    {
     "data": {
      "text/plain": [
       "Pressure      0\n",
       "Property      0\n",
       "Liq_Sat       0\n",
       "Vap_Sat       0\n",
       "75          528\n",
       "100         508\n",
       "125         488\n",
       "150         448\n",
       "175         384\n",
       "200         320\n",
       "220         408\n",
       "225         400\n",
       "240         408\n",
       "250         344\n",
       "260         384\n",
       "275         340\n",
       "280         380\n",
       "290         488\n",
       "300          60\n",
       "320         480\n",
       "325         136\n",
       "340         476\n",
       "350          68\n",
       "360         476\n",
       "375         204\n",
       "380         476\n",
       "400           0\n",
       "425         204\n",
       "450           0\n",
       "475         204\n",
       "500           0\n",
       "525         272\n",
       "550           0\n",
       "575         340\n",
       "600           0\n",
       "625         476\n",
       "650           0\n",
       "dtype: int64"
      ]
     },
     "execution_count": 62,
     "metadata": {},
     "output_type": "execute_result"
    }
   ],
   "source": [
    "#your code here\n",
    "df.isnull().sum(axis=0)\n"
   ]
  },
  {
   "cell_type": "markdown",
   "metadata": {
    "id": "Av-lcft2c3mx"
   },
   "source": [
    "### Create a column which contains the Pressure and Property columns, seperated with 'at' (For eg. V at 1, H at 101.325). Using this print the following:\n",
    "- Enthalpy at 75 kPa and 573 K\n",
    "- Entropy at 493 K and 250 kPa\n",
    "\n"
   ]
  },
  {
   "cell_type": "code",
   "execution_count": 63,
   "metadata": {
    "id": "B2AihQj_c32C"
   },
   "outputs": [
    {
     "name": "stdout",
     "output_type": "stream",
     "text": [
      "Enthalpy at 75 kPa and 573 K is:  [3520.5]\n",
      "Entropy at 493K and 250 kPa is:  [nan]\n"
     ]
    }
   ],
   "source": [
    "#your code here\n",
    "#I am using string concatenation and so converting columns into 'str' type\n",
    "df['Combined'] = df['Property'].astype(str) + ' at ' + df['Pressure'].astype(str)\n",
    "\n",
    "#Considering the given temperatures are in degree celsius \n",
    "\n",
    "row_1=df.loc[(df[\"Combined\"]==\"V at 75.0\")].index #Using the Combined column\n",
    "column_1=df.columns.get_loc(\"300\")\n",
    "print(\"Enthalpy at 75 kPa and 573 K is: \",df.iloc[row_1,column_1].values)\n",
    "\n",
    "row_2=df.loc[(df[\"Combined\"]==\"S at 250.0\")].index #Using the Combined column\n",
    "column_2=df.columns.get_loc(\"220\")\n",
    "print(\"Entropy at 493K and 250 kPa is: \",df.iloc[row_2,column_2].values)\n",
    "\n",
    "#The column 220Deg celsius is not present therefore Nan value\n",
    "\n"
   ]
  },
  {
   "cell_type": "markdown",
   "metadata": {
    "id": "GpLtXYRLc4Ho"
   },
   "source": [
    "### Find out the column with the highest number of missing values"
   ]
  },
  {
   "cell_type": "code",
   "execution_count": 64,
   "metadata": {
    "id": "q80Grgeyc4Xn"
   },
   "outputs": [
    {
     "name": "stdout",
     "output_type": "stream",
     "text": [
      "The column at the top has the maximum null values  \n",
      "\n"
     ]
    },
    {
     "data": {
      "text/plain": [
       "75          528\n",
       "100         508\n",
       "290         488\n",
       "125         488\n",
       "320         480\n",
       "625         476\n",
       "340         476\n",
       "360         476\n",
       "380         476\n",
       "150         448\n",
       "220         408\n",
       "240         408\n",
       "225         400\n",
       "175         384\n",
       "260         384\n",
       "280         380\n",
       "250         344\n",
       "575         340\n",
       "275         340\n",
       "200         320\n",
       "525         272\n",
       "375         204\n",
       "425         204\n",
       "475         204\n",
       "325         136\n",
       "350          68\n",
       "300          60\n",
       "600           0\n",
       "650           0\n",
       "550           0\n",
       "Pressure      0\n",
       "500           0\n",
       "450           0\n",
       "400           0\n",
       "Property      0\n",
       "Vap_Sat       0\n",
       "Liq_Sat       0\n",
       "Combined      0\n",
       "dtype: int64"
      ]
     },
     "execution_count": 64,
     "metadata": {},
     "output_type": "execute_result"
    }
   ],
   "source": [
    "#your code here\n",
    "print(\"The column at the top has the maximum null values  \\n\")\n",
    "df.isnull().sum().sort_values(ascending=False)\n"
   ]
  },
  {
   "cell_type": "markdown",
   "metadata": {
    "id": "74NVHTTac4nv"
   },
   "source": [
    "### What is the average enthalpy of Sat. Liq. at all different pressures in the dataset?"
   ]
  },
  {
   "cell_type": "code",
   "execution_count": 66,
   "metadata": {
    "id": "g3mByhBDdpVr"
   },
   "outputs": [
    {
     "name": "stdout",
     "output_type": "stream",
     "text": [
      "The avg enthalpy of Sat. Liq. at different pressures is : \n"
     ]
    },
    {
     "data": {
      "text/plain": [
       "936.9707720588235"
      ]
     },
     "execution_count": 66,
     "metadata": {},
     "output_type": "execute_result"
    }
   ],
   "source": [
    "#your code here\n",
    "g = df.groupby(df.Property)\n",
    "h = g.get_group(\"H\")\n",
    "print(\"The avg enthalpy of Sat. Liq. at different pressures is : \")\n",
    "h[\"Liq_Sat\"].mean()\n"
   ]
  },
  {
   "cell_type": "markdown",
   "metadata": {
    "id": "uS-SuqU8dpxg"
   },
   "source": [
    "### Separate out the V,U,H,S data from the dataset into V_data, U_data, H_data, S_data"
   ]
  },
  {
   "cell_type": "code",
   "execution_count": 67,
   "metadata": {
    "id": "Sg3V9Toyd1Av"
   },
   "outputs": [
    {
     "name": "stdout",
     "output_type": "stream",
     "text": [
      "V_data is: \n",
      "      Pressure Property  Liq_Sat     Vap_Sat        75       100       125  \\\n",
      "0         1.0        V    1.000  129200.000  160640.0  172180.0  183720.0   \n",
      "4        10.0        V    1.010   14670.000   16030.0   17190.0   18350.0   \n",
      "8        20.0        V    1.017    7649.800    8000.0    8584.7    9167.1   \n",
      "12       30.0        V    1.022    5229.300    5322.0    5714.4    6104.6   \n",
      "16       40.0        V    1.027    3993.400       NaN    4279.2    4573.3   \n",
      "..        ...      ...      ...         ...       ...       ...       ...   \n",
      "524   10600.0        V    1.474      16.778       NaN       NaN       NaN   \n",
      "528   10800.0        V    1.481      16.385       NaN       NaN       NaN   \n",
      "532   11000.0        V    1.489      16.006       NaN       NaN       NaN   \n",
      "536   11200.0        V    1.496      15.639       NaN       NaN       NaN   \n",
      "540   11400.0        V    1.504      15.284       NaN       NaN       NaN   \n",
      "\n",
      "          150       175       200  ...         450     475         500  \\\n",
      "0    195270.0  206810.0  218350.0  ...  333730.000     NaN  356810.000   \n",
      "4     19510.0   20660.0   21820.0  ...   33370.000     NaN   35670.000   \n",
      "8      9748.0   10320.0   10900.0  ...   16680.000     NaN   17830.000   \n",
      "12     6493.2    6880.8    7267.5  ...   11120.000     NaN   11890.000   \n",
      "16     4865.8    5157.2    5447.8  ...    8340.100     NaN    8917.600   \n",
      "..        ...       ...       ...  ...         ...     ...         ...   \n",
      "524       NaN       NaN       NaN  ...      27.834  29.313      30.732   \n",
      "528       NaN       NaN       NaN  ...      27.245  28.706      30.106   \n",
      "532       NaN       NaN       NaN  ...      26.676  28.120      29.503   \n",
      "536       NaN       NaN       NaN  ...      26.128  27.555      28.921   \n",
      "540       NaN       NaN       NaN  ...      25.599  27.010      28.359   \n",
      "\n",
      "        525         550     575         600     625         650      Combined  \n",
      "0       NaN  379880.000     NaN  402960.000     NaN  426040.000      V at 1.0  \n",
      "4       NaN   37980.000     NaN   40290.000     NaN   42600.000     V at 10.0  \n",
      "8       NaN   18990.000     NaN   20140.000     NaN   21300.000     V at 20.0  \n",
      "12      NaN   12660.000     NaN   13430.000     NaN   14190.000     V at 30.0  \n",
      "16      NaN    9494.900     NaN   10070.000     NaN   10640.000     V at 40.0  \n",
      "..      ...         ...     ...         ...     ...         ...           ...  \n",
      "524  32.106      33.444  34.753      36.039  37.304      38.552  V at 10600.0  \n",
      "528  31.461      32.779  34.069      35.335  36.580      37.808  V at 10800.0  \n",
      "532  30.839      32.139  33.410      34.656  35.882      37.091  V at 11000.0  \n",
      "536  30.240      31.521  32.774      34.002  35.210      36.400  V at 11200.0  \n",
      "540  29.661      30.925  32.160      33.370  34.560      35.733  V at 11400.0  \n",
      "\n",
      "[136 rows x 38 columns]\n",
      "U_data is: \n",
      "      Pressure Property   Liq_Sat  Vap_Sat      75     100     125     150  \\\n",
      "1         1.0        U    29.334   2385.2  2480.8  2516.4  2552.3  2588.5   \n",
      "5        10.0        U   191.822   2438.0  2479.7  2515.6  2551.6  2588.0   \n",
      "9        20.0        U   251.432   2456.9  2478.4  2514.6  2550.9  2587.4   \n",
      "13       30.0        U   289.271   2468.6  2477.1  2513.6  2550.2  2586.8   \n",
      "17       40.0        U   317.609   2477.1     NaN  2512.6  2549.4  2586.2   \n",
      "..        ...      ...       ...      ...     ...     ...     ...     ...   \n",
      "525   10600.0        U  1418.100   2539.0     NaN     NaN     NaN     NaN   \n",
      "529   10800.0        U  1426.200   2536.2     NaN     NaN     NaN     NaN   \n",
      "533   11000.0        U  1434.200   2533.2     NaN     NaN     NaN     NaN   \n",
      "537   11200.0        U  1442.100   2530.3     NaN     NaN     NaN     NaN   \n",
      "541   11400.0        U  1450.000   2527.2     NaN     NaN     NaN     NaN   \n",
      "\n",
      "        175     200  ...     450     475     500     525     550     575  \\\n",
      "1    2624.9  2661.7  ...  3049.9     NaN  3132.4     NaN  3216.7     NaN   \n",
      "5    2624.5  2661.4  ...  3049.8     NaN  3132.3     NaN  3216.6     NaN   \n",
      "9    2624.1  2661.0  ...  3049.7     NaN  3132.3     NaN  3216.5     NaN   \n",
      "13   2623.6  2660.7  ...  3049.6     NaN  3132.2     NaN  3216.5     NaN   \n",
      "17   2623.2  2660.3  ...  3049.5     NaN  3132.1     NaN  3216.4     NaN   \n",
      "..      ...     ...  ...     ...     ...     ...     ...     ...     ...   \n",
      "525     NaN     NaN  ...  2939.1  2991.1  3041.4  3090.7  3139.3  3187.5   \n",
      "529     NaN     NaN  ...  2936.7  2989.0  3039.6  3089.0  3137.8  3186.1   \n",
      "533     NaN     NaN  ...  2934.3  2986.9  3037.7  3087.3  3136.2  3184.7   \n",
      "537     NaN     NaN  ...  2931.8  2984.8  3035.8  3085.6  3134.7  3183.3   \n",
      "541     NaN     NaN  ...  2929.4  2982.6  3033.9  3083.9  3133.1  3181.9   \n",
      "\n",
      "        600     625     650      Combined  \n",
      "1    3302.6     NaN  3390.3      U at 1.0  \n",
      "5    3302.6     NaN  3390.3     U at 10.0  \n",
      "9    3302.5     NaN  3390.2     U at 20.0  \n",
      "13   3302.5     NaN  3390.2     U at 30.0  \n",
      "17   3302.4     NaN  3390.1     U at 40.0  \n",
      "..      ...     ...     ...           ...  \n",
      "525  3235.6  3283.6  3331.7  U at 10600.0  \n",
      "529  3234.3  3282.4  3330.6  U at 10800.0  \n",
      "533  3233.0  3281.2  3329.5  U at 11000.0  \n",
      "537  3231.7  3280.0  3328.4  U at 11200.0  \n",
      "541  3230.4  3278.8  3327.2  U at 11400.0  \n",
      "\n",
      "[136 rows x 38 columns]\n",
      "H_data is: \n",
      "      Pressure Property   Liq_Sat  Vap_Sat      75     100     125     150  \\\n",
      "2         1.0        H    29.335   2514.4  2641.5  2688.6  2736.0  2783.7   \n",
      "6        10.0        H   191.832   2584.8  2640.0  2687.5  2735.2  2783.1   \n",
      "10       20.0        H   251.453   2609.9  2638.4  2686.3  2734.2  2782.3   \n",
      "14       30.0        H   289.302   2625.4  2636.8  2685.1  2733.3  2781.6   \n",
      "18       40.0        H   317.650   2636.9     NaN  2683.8  2732.3  2780.9   \n",
      "..        ...      ...       ...      ...     ...     ...     ...     ...   \n",
      "526   10600.0        H  1433.700   2716.9     NaN     NaN     NaN     NaN   \n",
      "530   10800.0        H  1442.200   2713.1     NaN     NaN     NaN     NaN   \n",
      "534   11000.0        H  1450.600   2709.3     NaN     NaN     NaN     NaN   \n",
      "538   11200.0        H  1458.900   2705.4     NaN     NaN     NaN     NaN   \n",
      "542   11400.0        H  1467.200   2701.5     NaN     NaN     NaN     NaN   \n",
      "\n",
      "        175     200  ...     450     475     500     525     550     575  \\\n",
      "2    2831.7  2880.1  ...  3383.6     NaN  3489.2     NaN  3596.5     NaN   \n",
      "6    2831.2  2879.6  ...  3383.5     NaN  3489.1     NaN  3596.5     NaN   \n",
      "10   2830.6  2879.2  ...  3383.4     NaN  3489.0     NaN  3596.4     NaN   \n",
      "14   2830.0  2878.7  ...  3383.3     NaN  3488.9     NaN  3596.3     NaN   \n",
      "18   2829.5  2878.2  ...  3383.1     NaN  3488.8     NaN  3596.2     NaN   \n",
      "..      ...     ...  ...     ...     ...     ...     ...     ...     ...   \n",
      "526     NaN     NaN  ...  3234.1  3301.8  3367.2  3431.0  3493.8  3555.9   \n",
      "530     NaN     NaN  ...  3230.9  3299.0  3364.7  3428.8  3491.8  3554.1   \n",
      "534     NaN     NaN  ...  3227.7  3296.2  3362.2  3426.5  3489.7  3552.2   \n",
      "538     NaN     NaN  ...  3224.5  3293.4  3359.7  3424.3  3487.7  3550.4   \n",
      "542     NaN     NaN  ...  3221.2  3290.5  3357.2  3422.1  3485.7  3548.5   \n",
      "\n",
      "        600     625     650      Combined  \n",
      "2    3705.6     NaN  3816.4      H at 1.0  \n",
      "6    3705.5     NaN  3816.3     H at 10.0  \n",
      "10   3705.4     NaN  3816.2     H at 20.0  \n",
      "14   3705.4     NaN  3816.2     H at 30.0  \n",
      "18   3705.3     NaN  3816.1     H at 40.0  \n",
      "..      ...     ...     ...           ...  \n",
      "526  3617.6  3679.1  3740.4  H at 10600.0  \n",
      "530  3615.9  3677.5  3738.9  H at 10800.0  \n",
      "534  3614.2  3675.9  3737.5  H at 11000.0  \n",
      "538  3612.5  3674.4  3736.0  H at 11200.0  \n",
      "542  3610.8  3672.8  3734.6  H at 11400.0  \n",
      "\n",
      "[136 rows x 38 columns]\n",
      "S_data is: \n",
      "      Pressure Property  Liq_Sat  Vap_Sat      75     100     125     150  \\\n",
      "3         1.0        S   0.1060   8.9767  9.3828  9.5136  9.6365  9.7527   \n",
      "7        10.0        S   0.6493   8.1511  8.3168  8.4486  8.5722  8.6888   \n",
      "11       20.0        S   0.8321   7.9094  7.9933  8.1261  8.2504  8.3676   \n",
      "15       30.0        S   0.9441   7.7695  7.8024  7.9363  8.0614  8.1791   \n",
      "19       40.0        S   1.0261   7.6709     NaN  7.8009  7.9268  8.0450   \n",
      "..        ...      ...      ...      ...     ...     ...     ...     ...   \n",
      "527   10600.0        S   3.4029   5.5835     NaN     NaN     NaN     NaN   \n",
      "531   10800.0        S   3.4167   5.5715     NaN     NaN     NaN     NaN   \n",
      "535   11000.0        S   3.4304   5.5595     NaN     NaN     NaN     NaN   \n",
      "539   11200.0        S   3.4440   5.5476     NaN     NaN     NaN     NaN   \n",
      "543   11400.0        S   3.4575   5.5357     NaN     NaN     NaN     NaN   \n",
      "\n",
      "        175     200  ...      450     475      500     525      550     575  \\\n",
      "3    9.8629  9.9679  ...  10.8200     NaN  10.9612     NaN  11.0957     NaN   \n",
      "7    8.7994  8.9045  ...   9.7572     NaN   9.8984     NaN  10.0329     NaN   \n",
      "11   8.4785  8.5839  ...   9.4372     NaN   9.5784     NaN   9.7130     NaN   \n",
      "15   8.2903  8.3960  ...   9.2499     NaN   9.3912     NaN   9.5257     NaN   \n",
      "19   8.1566  8.2624  ...   9.1170     NaN   9.2583     NaN   9.3929     NaN   \n",
      "..      ...     ...  ...      ...     ...      ...     ...      ...     ...   \n",
      "527     NaN     NaN  ...   6.3872  6.4793   6.5652  6.6465   6.7239  6.7983   \n",
      "531     NaN     NaN  ...   6.3752  6.4678   6.5542  6.6357   6.7134  6.7880   \n",
      "535     NaN     NaN  ...   6.3633  6.4564   6.5432  6.6251   6.7031  6.7779   \n",
      "539     NaN     NaN  ...   6.3515  6.4452   6.5324  6.6147   6.6929  6.7679   \n",
      "543     NaN     NaN  ...   6.3399  6.4341   6.5218  6.6043   6.6828  6.7580   \n",
      "\n",
      "         600     625      650      Combined  \n",
      "3    11.2243     NaN  11.3476      S at 1.0  \n",
      "7    10.1616     NaN  10.2849     S at 10.0  \n",
      "11    9.8416     NaN   9.9650     S at 20.0  \n",
      "15    9.6544     NaN   9.7778     S at 30.0  \n",
      "19    9.5216     NaN   9.6450     S at 40.0  \n",
      "..       ...     ...      ...           ...  \n",
      "527   6.8700  6.9394   7.0067  S at 10600.0  \n",
      "531   6.8599  6.9294   6.9969  S at 10800.0  \n",
      "535   6.8499  6.9196   6.9872  S at 11000.0  \n",
      "539   6.8401  6.9099   6.9777  S at 11200.0  \n",
      "543   6.8304  6.9004   6.9683  S at 11400.0  \n",
      "\n",
      "[136 rows x 38 columns]\n"
     ]
    }
   ],
   "source": [
    "#your code here\n",
    "g = df.groupby(df.Property)\n",
    "V_data = g.get_group(\"V\")\n",
    "print (\"V_data is: \\n\",V_data)\n",
    "\n",
    "g = df.groupby(df.Property)\n",
    "U_data = g.get_group(\"U\")\n",
    "print (\"U_data is: \\n\",U_data)\n",
    "\n",
    "g = df.groupby(df.Property)\n",
    "H_data = g.get_group(\"H\")\n",
    "print (\"H_data is: \\n\",H_data)\n",
    "\n",
    "g = df.groupby(df.Property)\n",
    "S_data = g.get_group(\"S\")\n",
    "print (\"S_data is: \\n\",S_data)\n"
   ]
  },
  {
   "cell_type": "markdown",
   "metadata": {
    "id": "Ghkj0-0-d1W7"
   },
   "source": [
    "# Section 3: Plotting with Matplotlib"
   ]
  },
  {
   "cell_type": "markdown",
   "metadata": {
    "id": "ka0qrDcZeAL6"
   },
   "source": [
    "### Plot the properties (specific volume, specific internal energy, specific enthalpy, specific entropy) vs Pressure for saturated liquid.\n",
    "\n",
    "Note:\n",
    "- Try using the subplot feature of matplotlib(Explore it!!)\n",
    "- Provide appropriate title, labels, markersize and other parameters to the plot"
   ]
  },
  {
   "cell_type": "code",
   "execution_count": 72,
   "metadata": {
    "id": "XbKdm-cUePKA"
   },
   "outputs": [
    {
     "data": {
      "text/plain": [
       "Text(0.5, 1.0, 'S v/s P')"
      ]
     },
     "execution_count": 72,
     "metadata": {},
     "output_type": "execute_result"
    },
    {
     "data": {
      "image/png": "[encoded data removed]",
      "text/plain": [
       "<Figure size 640x480 with 4 Axes>"
      ]
     },
     "metadata": {},
     "output_type": "display_data"
    }
   ],
   "source": [
    "#your code here\n",
    "graph, axes = plt.subplots(2, 2)\n",
    "graph.suptitle(\"V,U,H,S v/s P graph for Saturated Liquid \",color='c')\n",
    "graph.supxlabel('Pressure',color='c')\n",
    "graph.supylabel('Properties',color='c')\n",
    "axes[0, 0].plot(V_data[\"Pressure\"],V_data[\"Liq_Sat\"],color='b',marker='o') \n",
    "axes[0, 0].set_title(\"V v/s P\")\n",
    "\n",
    "axes[0, 1].plot(U_data[\"Pressure\"],U_data[\"Liq_Sat\"],color='m', marker='*' ) \n",
    "axes[0, 1].set_title(\"U v/s P\")\n",
    "\n",
    "axes[1, 0].plot(H_data[\"Pressure\"],H_data[\"Liq_Sat\"],color='g',marker='>')\n",
    "axes[1, 0].set_title(\"H v/s P\")\n",
    "\n",
    "axes[1, 1].plot(S_data[\"Pressure\"],S_data[\"Liq_Sat\"], color='y',marker='*')\n",
    "axes[1, 1].set_title(\"S v/s P\")\n"
   ]
  },
  {
   "cell_type": "markdown",
   "metadata": {},
   "source": [
    "### Plot the same for saturated vapor."
   ]
  },
  {
   "cell_type": "code",
   "execution_count": 73,
   "metadata": {},
   "outputs": [
    {
     "data": {
      "text/plain": [
       "Text(0.5, 1.0, 'S v/s P')"
      ]
     },
     "execution_count": 73,
     "metadata": {},
     "output_type": "execute_result"
    },
    {
     "data": {
      "image/png": "[encoded data removed]",
      "text/plain": [
       "<Figure size 640x480 with 4 Axes>"
      ]
     },
     "metadata": {},
     "output_type": "display_data"
    }
   ],
   "source": [
    "#your code here\n",
    "graph, axes = plt.subplots(2, 2)\n",
    "\n",
    "graph.suptitle(\"V,U,H,S v/s P graph for Sat_Vap \",color='c')\n",
    "graph.supxlabel('Pressure',color='c')\n",
    "graph.supylabel('Properties',color='c')\n",
    "\n",
    "axes[0, 0].plot(V_data[\"Pressure\"],V_data[\"Vap_Sat\"],color='b',marker='>') \n",
    "axes[0, 0].set_title(\"V v/s P\")\n",
    "\n",
    "axes[0, 1].plot(U_data[\"Pressure\"],U_data[\"Vap_Sat\"],color='r', marker='*' ) \n",
    "axes[0, 1].set_title(\"U v/s P\")\n",
    "\n",
    "axes[1, 0].plot(H_data[\"Pressure\"],H_data[\"Vap_Sat\"],color='g',marker='o')\n",
    "axes[1, 0].set_title(\"H v/s P\")\n",
    "\n",
    "axes[1, 1].plot(S_data[\"Pressure\"],S_data[\"Vap_Sat\"], color='y',marker='s')\n",
    "axes[1, 1].set_title(\"S v/s P\")"
   ]
  },
  {
   "cell_type": "markdown",
   "metadata": {
    "id": "SCLRji6TeQgh"
   },
   "source": [
    "### Plot the specific volume of saturated liquid between 300 kPa and 1500 kPa"
   ]
  },
  {
   "cell_type": "code",
   "execution_count": 74,
   "metadata": {
    "id": "u6DyyI7MeYgE"
   },
   "outputs": [
    {
     "data": {
      "text/plain": [
       "Text(0.5, 1.0, 'Specific Volume v/s Pressure graph')"
      ]
     },
     "execution_count": 74,
     "metadata": {},
     "output_type": "execute_result"
    },
    {
     "data": {
      "image/png": "[encoded data removed]",
      "text/plain": [
       "<Figure size 640x480 with 1 Axes>"
      ]
     },
     "metadata": {},
     "output_type": "display_data"
    }
   ],
   "source": [
    "#your code here\n",
    "vplot=V_data.loc[(V_data['Pressure'] > 300) & (V_data['Pressure'] < 1500)]\n",
    "plt.plot(vplot[\"Pressure\"],vplot[\"Liq_Sat\"],color='r',marker='3')\n",
    "plt.xlabel(\"Pressure (in kPa)\",color='c')\n",
    "plt.ylabel(\"Specific Volume\",color='c')\n",
    "plt.title(\"Specific Volume v/s Pressure graph\")"
   ]
  },
  {
   "cell_type": "markdown",
   "metadata": {},
   "source": [
    "# Section 4 : Conclusion"
   ]
  },
  {
   "cell_type": "markdown",
   "metadata": {},
   "source": [
    "*Congratulations on reaching this point! I hope you had fun solving your first assignment and have also built confidence in applying these libraries. If you are wondering, we will cover more about z-score normalization in Week 2, and the sigmoid function will be used in Week 3. After completing this assignment, you are now prepared to learn about machine learning techniques and implement your own machine learning models.*"
   ]
  }
 ],
 "metadata": {
  "colab": {
   "provenance": [],
   "toc_visible": true
  },
  "kernelspec": {
   "display_name": "Python 3 (ipykernel)",
   "language": "python",
   "name": "python3"
  },
  "language_info": {
   "codemirror_mode": {
    "name": "ipython",
    "version": 3
   },
   "file_extension": ".py",
   "mimetype": "text/x-python",
   "name": "python",
   "nbconvert_exporter": "python",
   "pygments_lexer": "ipython3",
   "version": "3.11.5"
  }
 },
 "nbformat": 4,
 "nbformat_minor": 1
}
